{
 "cells": [
  {
   "cell_type": "markdown",
   "metadata": {},
   "source": [
    "# Introduction\n",
    "This is a hands-on guide to OpenLab's Python client...\n",
    "\n",
    "[Web Client](https://live.openlab.app/)\n",
    "\n",
    "[Web Client User Guide and Python Client](http://www.openlabdrilling.org/about-open-lab-drilling/webclient/#)\n",
    "\n",
    "[OpenLab API](https://live.openlab.app/swagger/)\n",
    "\n"
   ]
  },
  {
   "cell_type": "markdown",
   "metadata": {},
   "source": [
    "## Some Useful Keyboard Shortcuts\n",
    "*(Help -> Keyboard Shortcuts for list of all shortcuts)*\n",
    "\n",
    "`tab` Show all available methods for object\n",
    "\n",
    "`Shift` `tab` Shows documentation for the selected method like argument info\n",
    "\n",
    "`Up/Down` Navigate between cells\n",
    "\n",
    "`Enter` Enter cell to edit\n",
    "\n",
    "`Esc` Exit cell editing\n",
    "\n",
    "`Ctrl` `Enter` Run selected cells code\n",
    "\n",
    "`Ctrl` `Left/Right` Previous/Next word (Hold down `Shift` to select multiple words)"
   ]
  },
  {
   "cell_type": "markdown",
   "metadata": {},
   "source": [
    "## Import libraries"
   ]
  },
  {
   "cell_type": "code",
   "execution_count": null,
   "metadata": {},
   "outputs": [],
   "source": [
    "#pretty printing\n",
    "import pprint as pr\n",
    "\n",
    "#matlab style plotting\n",
    "import matplotlib.pyplot as plt\n",
    "\n",
    "#matlab style arrays\n",
    "import numpy as np"
   ]
  },
  {
   "cell_type": "markdown",
   "metadata": {},
   "source": [
    "# Network"
   ]
  },
  {
   "cell_type": "markdown",
   "metadata": {},
   "source": [
    "## HTTP \n",
    "Hypertext Transfer Protocol, or HTTP, is the foundation application protocol for the internet (source - wikipedia). The 4 main methods that API's use, including Openlab, are:\n",
    "    \n",
    "    Post\n",
    "    Put\n",
    "    Get\n",
    "    Delete\n",
    "\n",
    "The OpenLab python client uses a library (oauth) to handle the dirty work and prepare the requests to the web client. Each call to openlab.http_client() creates a client instance from this library, and all HTTP methods can be called (like the following)\n",
    "\n",
    "```\n",
    "def whoami(self):\n",
    "\n",
    "        \"\"\"\n",
    "        Returns information about the current user\n",
    "        \"\"\"\n",
    "        r=self.client.get(self.url+\"/users/whoami\") \n",
    "        return self.standard_response(r, 200)\n",
    "        \n",
    "        ```\n",
    "        "
   ]
  },
  {
   "cell_type": "markdown",
   "metadata": {},
   "source": [
    "## Logging In"
   ]
  },
  {
   "cell_type": "code",
   "execution_count": null,
   "metadata": {},
   "outputs": [],
   "source": [
    "#import openlab and initialize an http_client"
   ]
  },
  {
   "cell_type": "markdown",
   "metadata": {},
   "source": [
    "## JSON Data\n",
    "JavaScript Object Notation, or JSON, is a text data structure which is both lightweight and easible parsable for computers, but also easy for humans to read and write (source - json.org). Which is why it is so popular. It is defined as key/value pairs seperated by a colon "
   ]
  },
  {
   "cell_type": "code",
   "execution_count": null,
   "metadata": {},
   "outputs": [],
   "source": [
    "# who am i"
   ]
  },
  {
   "cell_type": "code",
   "execution_count": null,
   "metadata": {},
   "outputs": [],
   "source": [
    "# type of who am i"
   ]
  },
  {
   "cell_type": "code",
   "execution_count": null,
   "metadata": {},
   "outputs": [],
   "source": [
    "# list the keys of a dictionary"
   ]
  },
  {
   "cell_type": "code",
   "execution_count": null,
   "metadata": {},
   "outputs": [],
   "source": [
    "# accessing a value associated to a dictionary key"
   ]
  },
  {
   "cell_type": "markdown",
   "metadata": {},
   "source": [
    "# Configurations"
   ]
  },
  {
   "cell_type": "code",
   "execution_count": null,
   "metadata": {},
   "outputs": [],
   "source": [
    "# get all the configurations you have created and print each one's name"
   ]
  },
  {
   "cell_type": "code",
   "execution_count": null,
   "metadata": {},
   "outputs": [],
   "source": [
    "# get a configuration's ID by manually entering it "
   ]
  },
  {
   "cell_type": "code",
   "execution_count": null,
   "metadata": {},
   "outputs": [],
   "source": [
    "# programatically get configurationID's"
   ]
  },
  {
   "cell_type": "code",
   "execution_count": null,
   "metadata": {},
   "outputs": [],
   "source": [
    "# get information that is nested e.g. a list (configurations) of dictionaries(individual configuration info)"
   ]
  },
  {
   "cell_type": "markdown",
   "metadata": {},
   "source": [
    "# Simulation"
   ]
  },
  {
   "cell_type": "markdown",
   "metadata": {},
   "source": [
    "### Initializing Simulation"
   ]
  },
  {
   "cell_type": "code",
   "execution_count": null,
   "metadata": {},
   "outputs": [],
   "source": [
    "# create and initialize a simulation"
   ]
  },
  {
   "cell_type": "markdown",
   "metadata": {},
   "source": [
    "### Stepping/running simulation"
   ]
  },
  {
   "cell_type": "code",
   "execution_count": null,
   "metadata": {},
   "outputs": [],
   "source": [
    "# step 100 time steps without setting anything and see that it ran/is running in web client"
   ]
  },
  {
   "cell_type": "markdown",
   "metadata": {},
   "source": [
    "### Setting setpoints\n",
    "***Important!*** All units must be in SI"
   ]
  },
  {
   "cell_type": "markdown",
   "metadata": {},
   "source": [
    "##### Available setpoints"
   ]
  },
  {
   "cell_type": "code",
   "execution_count": null,
   "metadata": {},
   "outputs": [],
   "source": []
  },
  {
   "cell_type": "code",
   "execution_count": null,
   "metadata": {},
   "outputs": [],
   "source": [
    "# set setpoints (RPM, Hookspeed, ROP, Flow Rate) (hint: type \"sim.setpoints.\"+\"tab\" to see all of them and scroll through)"
   ]
  },
  {
   "cell_type": "code",
   "execution_count": null,
   "metadata": {},
   "outputs": [],
   "source": [
    "# step the simulation 100 more steps and observe in the client the setpoints set correctly"
   ]
  },
  {
   "cell_type": "markdown",
   "metadata": {},
   "source": [
    "### Getting Results"
   ]
  },
  {
   "cell_type": "markdown",
   "metadata": {},
   "source": [
    "#### Available Results\n",
    "***Important!*** All units are returned in SI"
   ]
  },
  {
   "cell_type": "code",
   "execution_count": null,
   "metadata": {},
   "outputs": [],
   "source": []
  },
  {
   "cell_type": "code",
   "execution_count": null,
   "metadata": {},
   "outputs": [],
   "source": [
    "# enter tags you want results of (hint: use a list) "
   ]
  },
  {
   "cell_type": "code",
   "execution_count": null,
   "metadata": {},
   "outputs": [],
   "source": [
    "# step 50 steps fetching the results every time"
   ]
  },
  {
   "cell_type": "code",
   "execution_count": null,
   "metadata": {},
   "outputs": [],
   "source": [
    "# print off all SPP results"
   ]
  },
  {
   "cell_type": "code",
   "execution_count": null,
   "metadata": {},
   "outputs": [],
   "source": [
    "# print only the last SPP result"
   ]
  },
  {
   "cell_type": "code",
   "execution_count": null,
   "metadata": {},
   "outputs": [],
   "source": [
    "# print a range of SPP results truncated with no decimals"
   ]
  },
  {
   "cell_type": "markdown",
   "metadata": {},
   "source": [
    "### Non Depth Based Results"
   ]
  },
  {
   "cell_type": "code",
   "execution_count": null,
   "metadata": {},
   "outputs": [],
   "source": [
    "# Get simulation results without stepping (e.g. for a previously run simulation)"
   ]
  },
  {
   "cell_type": "markdown",
   "metadata": {},
   "source": [
    "### Depth Based Results"
   ]
  },
  {
   "cell_type": "code",
   "execution_count": null,
   "metadata": {},
   "outputs": [],
   "source": [
    "# Setting true in get_simulation_results will exlude depth based values for all but last setpoint."
   ]
  },
  {
   "cell_type": "markdown",
   "metadata": {},
   "source": [
    "# Plotting"
   ]
  },
  {
   "cell_type": "markdown",
   "metadata": {},
   "source": [
    "### Plot Non-depth Results \n",
    "***(using list comprehension)***\n",
    "\n",
    "List comprehension provides a more concise way to make a new list from e.g. a dictionary of dictionaries\n",
    "Normally, this is done with a for loop like:\n",
    "\n",
    "`\n",
    "new_list = list()\n",
    "for i in old_list.keys():\n",
    "    new_list.append(old_list[i][key])\n",
    "    `\n",
    "    \n",
    "which can be replaced with a one liner (which for me is harder to read)\n",
    "\n",
    "`\n",
    "new_list = [old_list[i][key] for i in old_list.keys()]`"
   ]
  },
  {
   "cell_type": "code",
   "execution_count": null,
   "metadata": {},
   "outputs": [],
   "source": [
    "#get results for the two plots we want (depth and non-depth based results)\n",
    "\n",
    "#create a list of timesteps for the x-axis\n",
    "\n",
    "#list comprehensions for the y-axes\n",
    "\n",
    "#initialize figure\n",
    "\n",
    "#create first axis\n",
    "\n",
    "#initialize a second 'twin' axis that shares the x-axis\n"
   ]
  },
  {
   "cell_type": "markdown",
   "metadata": {},
   "source": [
    "### Plot depth based results \n",
    "(***using map and lambda function***)"
   ]
  },
  {
   "cell_type": "code",
   "execution_count": null,
   "metadata": {},
   "outputs": [],
   "source": [
    "# create a lamda function that will return value and depth\n",
    "\n",
    "# map that lambda function \n",
    "\n",
    "# plot the data on an inverted y-axis"
   ]
  },
  {
   "cell_type": "markdown",
   "metadata": {},
   "source": [
    "# Ending Simulation\n",
    "For When `Simulation.end_simulation_on_exiting = False` *(True by default)*"
   ]
  },
  {
   "cell_type": "code",
   "execution_count": null,
   "metadata": {},
   "outputs": [],
   "source": [
    "# stop and complete simulation"
   ]
  }
 ],
 "metadata": {
  "kernelspec": {
   "display_name": "Python 3",
   "language": "python",
   "name": "python3"
  },
  "language_info": {
   "codemirror_mode": {
    "name": "ipython",
    "version": 3
   },
   "file_extension": ".py",
   "mimetype": "text/x-python",
   "name": "python",
   "nbconvert_exporter": "python",
   "pygments_lexer": "ipython3",
   "version": "3.6.3"
  }
 },
 "nbformat": 4,
 "nbformat_minor": 2
}
